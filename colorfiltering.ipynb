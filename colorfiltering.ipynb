{
 "cells": [
  {
   "cell_type": "code",
   "execution_count": 1,
   "metadata": {},
   "outputs": [],
   "source": [
    "import cv2\n",
    "import numpy as np"
   ]
  },
  {
   "cell_type": "code",
   "execution_count": 8,
   "metadata": {},
   "outputs": [],
   "source": [
    "device=cv2.VideoCapture(0)\n",
    "flag=True \n",
    "while flag:\n",
    "    ret,frame=device.read()\n",
    "    hsv=cv2.cvtColor(frame,cv2.COLOR_BGR2HSV)\n",
    "    lower_range=np.array([110,50,50])\n",
    "    upper_range=np.array([130,255,255])\n",
    "    mask=cv2.inRange(hsv,lower_range,upper_range)\n",
    "    cv2.imshow(\"Show\",mask)\n",
    "    cv2.imshow(\"Show1\",frame)\n",
    "    if cv2.waitKey(1)==13:\n",
    "        break\n",
    "device.release()\n",
    "cv2.destroyAllWindows()\n"
   ]
  },
  {
   "cell_type": "code",
   "execution_count": 15,
   "metadata": {},
   "outputs": [],
   "source": [
    "device=cv2.VideoCapture(0)\n",
    "flag=True \n",
    "while flag:\n",
    "    ret,frame=device.read()\n",
    "    hsv=cv2.cvtColor(frame,cv2.COLOR_BGR2HSV)\n",
    "    lower_range=np.array([110,50,50])\n",
    "    upper_range=np.array([130,255,255])\n",
    "    mask=cv2.inRange(hsv,lower_range,upper_range)\n",
    "    result1=cv2.bitwise_and(frame,frame,mask=mask)\n",
    "    cv2.imshow(\"Show\",mask)\n",
    "    cv2.imshow(\"Show1\",frame)\n",
    "    cv2.imshow(\"result\",result1)\n",
    "    if cv2.waitKey(1)==13:\n",
    "        break\n",
    "device.release()\n",
    "cv2.destroyAllWindows()"
   ]
  },
  {
   "cell_type": "code",
   "execution_count": null,
   "metadata": {},
   "outputs": [],
   "source": []
  }
 ],
 "metadata": {
  "kernelspec": {
   "display_name": "Python 3",
   "language": "python",
   "name": "python3"
  },
  "language_info": {
   "codemirror_mode": {
    "name": "ipython",
    "version": 3
   },
   "file_extension": ".py",
   "mimetype": "text/x-python",
   "name": "python",
   "nbconvert_exporter": "python",
   "pygments_lexer": "ipython3",
   "version": "3.7.6"
  }
 },
 "nbformat": 4,
 "nbformat_minor": 4
}
